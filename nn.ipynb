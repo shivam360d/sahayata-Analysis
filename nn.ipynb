{
 "cells": [
  {
   "cell_type": "code",
   "execution_count": 1,
   "metadata": {},
   "outputs": [
    {
     "name": "stderr",
     "output_type": "stream",
     "text": [
      "Using TensorFlow backend.\n"
     ]
    }
   ],
   "source": [
    "import numpy as np\n",
    "import pandas as pd\n",
    "from sklearn import preprocessing \n",
    "from sklearn.model_selection import train_test_split, GridSearchCV, RandomizedSearchCV\n",
    "from sklearn.linear_model import LinearRegression\n",
    "from sklearn.svm import SVR\n",
    "from sklearn.model_selection import cross_val_score\n",
    "from sklearn.ensemble import RandomForestRegressor\n",
    "\n",
    "from keras import backend as K\n",
    "from keras import losses\n",
    "from keras.models import Sequential\n",
    "from keras.layers import Activation,LeakyReLU\n",
    "from keras.layers.core import Dense,Dropout\n",
    "from keras.optimizers import Adam,SGD, Adagrad\n",
    "from keras import metrics\n",
    "from keras import regularizers\n",
    "from keras.wrappers.scikit_learn import KerasRegressor\n",
    "from keras.utils import to_categorical"
   ]
  },
  {
   "cell_type": "code",
   "execution_count": 2,
   "metadata": {},
   "outputs": [],
   "source": [
    "data = pd.read_csv('final.csv',index_col=0)"
   ]
  },
  {
   "cell_type": "code",
   "execution_count": 3,
   "metadata": {},
   "outputs": [],
   "source": [
    "y = data.iloc[:,-1]\n",
    "X = data.drop(columns=['Rate','Year'])"
   ]
  },
  {
   "cell_type": "markdown",
   "metadata": {},
   "source": [
    "##### Run this if one hot encoded month is needed "
   ]
  },
  {
   "cell_type": "code",
   "execution_count": 17,
   "metadata": {},
   "outputs": [
    {
     "name": "stderr",
     "output_type": "stream",
     "text": [
      "C:\\Users\\vatss\\Anaconda3\\lib\\site-packages\\sklearn\\preprocessing\\_encoders.py:415: FutureWarning: The handling of integer data will change in version 0.22. Currently, the categories are determined based on the range [0, max(values)], while in the future they will be determined based on the unique values.\n",
      "If you want the future behaviour and silence this warning, you can specify \"categories='auto'\".\n",
      "In case you used a LabelEncoder before this OneHotEncoder to convert the categories to integers, then you can now use the OneHotEncoder directly.\n",
      "  warnings.warn(msg, FutureWarning)\n"
     ]
    },
    {
     "data": {
      "text/plain": [
       "OneHotEncoder(categorical_features=None, categories=None, drop=None,\n",
       "              dtype=<class 'numpy.float64'>, handle_unknown='error',\n",
       "              n_values=None, sparse=True)"
      ]
     },
     "execution_count": 17,
     "metadata": {},
     "output_type": "execute_result"
    }
   ],
   "source": [
    "enc = preprocessing.OneHotEncoder()\n",
    "enc.fit(np.array(X['Month']).reshape(-1,1))"
   ]
  },
  {
   "cell_type": "code",
   "execution_count": 4,
   "metadata": {},
   "outputs": [],
   "source": [
    "def adjustMonth(month):\n",
    "    if month<4:\n",
    "        return -1\n",
    "    elif month<8:\n",
    "        return 0\n",
    "    else:\n",
    "        return 1\n",
    "X['Month']=X['Month'].apply(adjustMonth)"
   ]
  },
  {
   "cell_type": "code",
   "execution_count": 5,
   "metadata": {},
   "outputs": [],
   "source": [
    "# Splittting data\n",
    "X_train, X_test, y_train, y_test = train_test_split(X, y, test_size=0.20, random_state=0)"
   ]
  },
  {
   "cell_type": "markdown",
   "metadata": {},
   "source": [
    "##### Run this if one hot encoded month is needed "
   ]
  },
  {
   "cell_type": "code",
   "execution_count": 19,
   "metadata": {},
   "outputs": [],
   "source": [
    "months_train = enc.transform(np.array(X_train['Month']).reshape(-1,1))\n",
    "months_test = enc.transform(np.array(X_test['Month']).reshape(-1,1))"
   ]
  },
  {
   "cell_type": "code",
   "execution_count": 20,
   "metadata": {},
   "outputs": [],
   "source": [
    "months_train=months_train.todense()\n",
    "months_test=months_test.todense()"
   ]
  },
  {
   "cell_type": "code",
   "execution_count": 21,
   "metadata": {},
   "outputs": [
    {
     "name": "stderr",
     "output_type": "stream",
     "text": [
      "C:\\Users\\vatss\\Anaconda3\\lib\\site-packages\\pandas\\core\\frame.py:4102: SettingWithCopyWarning: \n",
      "A value is trying to be set on a copy of a slice from a DataFrame\n",
      "\n",
      "See the caveats in the documentation: http://pandas.pydata.org/pandas-docs/stable/user_guide/indexing.html#returning-a-view-versus-a-copy\n",
      "  errors=errors,\n"
     ]
    }
   ],
   "source": [
    "X_train.drop(columns=['Month'],inplace=True)\n",
    "X_train = X_train.to_numpy(copy=True)\n",
    "X_test.drop(columns=['Month'],inplace=True)\n",
    "X_test = X_test.to_numpy(copy=True)"
   ]
  },
  {
   "cell_type": "code",
   "execution_count": 22,
   "metadata": {},
   "outputs": [],
   "source": [
    "X_train = np.concatenate((X_train,months_train),axis=1)\n",
    "X_test = np.concatenate((X_test,months_test),axis=1)"
   ]
  },
  {
   "cell_type": "code",
   "execution_count": 6,
   "metadata": {},
   "outputs": [
    {
     "data": {
      "text/plain": [
       "(153, 6)"
      ]
     },
     "execution_count": 6,
     "metadata": {},
     "output_type": "execute_result"
    }
   ],
   "source": [
    "X_train.shape"
   ]
  },
  {
   "cell_type": "markdown",
   "metadata": {},
   "source": [
    "##### Change the  following code block a little bit if using the one hot encoded months (remove iloc used for dataframes)"
   ]
  },
  {
   "cell_type": "code",
   "execution_count": 7,
   "metadata": {
    "collapsed": true
   },
   "outputs": [
    {
     "name": "stderr",
     "output_type": "stream",
     "text": [
      "C:\\Users\\vatss\\Anaconda3\\lib\\site-packages\\pandas\\core\\indexing.py:494: SettingWithCopyWarning: \n",
      "A value is trying to be set on a copy of a slice from a DataFrame.\n",
      "Try using .loc[row_indexer,col_indexer] = value instead\n",
      "\n",
      "See the caveats in the documentation: http://pandas.pydata.org/pandas-docs/stable/user_guide/indexing.html#returning-a-view-versus-a-copy\n",
      "  self.obj[item] = s\n",
      "C:\\Users\\vatss\\Anaconda3\\lib\\site-packages\\pandas\\core\\indexing.py:494: SettingWithCopyWarning: \n",
      "A value is trying to be set on a copy of a slice from a DataFrame.\n",
      "Try using .loc[row_indexer,col_indexer] = value instead\n",
      "\n",
      "See the caveats in the documentation: http://pandas.pydata.org/pandas-docs/stable/user_guide/indexing.html#returning-a-view-versus-a-copy\n",
      "  self.obj[item] = s\n",
      "C:\\Users\\vatss\\Anaconda3\\lib\\site-packages\\pandas\\core\\indexing.py:494: SettingWithCopyWarning: \n",
      "A value is trying to be set on a copy of a slice from a DataFrame.\n",
      "Try using .loc[row_indexer,col_indexer] = value instead\n",
      "\n",
      "See the caveats in the documentation: http://pandas.pydata.org/pandas-docs/stable/user_guide/indexing.html#returning-a-view-versus-a-copy\n",
      "  self.obj[item] = s\n",
      "C:\\Users\\vatss\\Anaconda3\\lib\\site-packages\\pandas\\core\\indexing.py:494: SettingWithCopyWarning: \n",
      "A value is trying to be set on a copy of a slice from a DataFrame.\n",
      "Try using .loc[row_indexer,col_indexer] = value instead\n",
      "\n",
      "See the caveats in the documentation: http://pandas.pydata.org/pandas-docs/stable/user_guide/indexing.html#returning-a-view-versus-a-copy\n",
      "  self.obj[item] = s\n",
      "C:\\Users\\vatss\\Anaconda3\\lib\\site-packages\\pandas\\core\\indexing.py:494: SettingWithCopyWarning: \n",
      "A value is trying to be set on a copy of a slice from a DataFrame.\n",
      "Try using .loc[row_indexer,col_indexer] = value instead\n",
      "\n",
      "See the caveats in the documentation: http://pandas.pydata.org/pandas-docs/stable/user_guide/indexing.html#returning-a-view-versus-a-copy\n",
      "  self.obj[item] = s\n",
      "C:\\Users\\vatss\\Anaconda3\\lib\\site-packages\\pandas\\core\\indexing.py:494: SettingWithCopyWarning: \n",
      "A value is trying to be set on a copy of a slice from a DataFrame.\n",
      "Try using .loc[row_indexer,col_indexer] = value instead\n",
      "\n",
      "See the caveats in the documentation: http://pandas.pydata.org/pandas-docs/stable/user_guide/indexing.html#returning-a-view-versus-a-copy\n",
      "  self.obj[item] = s\n",
      "C:\\Users\\vatss\\Anaconda3\\lib\\site-packages\\pandas\\core\\indexing.py:494: SettingWithCopyWarning: \n",
      "A value is trying to be set on a copy of a slice from a DataFrame.\n",
      "Try using .loc[row_indexer,col_indexer] = value instead\n",
      "\n",
      "See the caveats in the documentation: http://pandas.pydata.org/pandas-docs/stable/user_guide/indexing.html#returning-a-view-versus-a-copy\n",
      "  self.obj[item] = s\n",
      "C:\\Users\\vatss\\Anaconda3\\lib\\site-packages\\pandas\\core\\indexing.py:494: SettingWithCopyWarning: \n",
      "A value is trying to be set on a copy of a slice from a DataFrame.\n",
      "Try using .loc[row_indexer,col_indexer] = value instead\n",
      "\n",
      "See the caveats in the documentation: http://pandas.pydata.org/pandas-docs/stable/user_guide/indexing.html#returning-a-view-versus-a-copy\n",
      "  self.obj[item] = s\n",
      "C:\\Users\\vatss\\Anaconda3\\lib\\site-packages\\pandas\\core\\indexing.py:494: SettingWithCopyWarning: \n",
      "A value is trying to be set on a copy of a slice from a DataFrame.\n",
      "Try using .loc[row_indexer,col_indexer] = value instead\n",
      "\n",
      "See the caveats in the documentation: http://pandas.pydata.org/pandas-docs/stable/user_guide/indexing.html#returning-a-view-versus-a-copy\n",
      "  self.obj[item] = s\n",
      "C:\\Users\\vatss\\Anaconda3\\lib\\site-packages\\pandas\\core\\indexing.py:494: SettingWithCopyWarning: \n",
      "A value is trying to be set on a copy of a slice from a DataFrame.\n",
      "Try using .loc[row_indexer,col_indexer] = value instead\n",
      "\n",
      "See the caveats in the documentation: http://pandas.pydata.org/pandas-docs/stable/user_guide/indexing.html#returning-a-view-versus-a-copy\n",
      "  self.obj[item] = s\n",
      "C:\\Users\\vatss\\Anaconda3\\lib\\site-packages\\pandas\\core\\indexing.py:494: SettingWithCopyWarning: \n",
      "A value is trying to be set on a copy of a slice from a DataFrame.\n",
      "Try using .loc[row_indexer,col_indexer] = value instead\n",
      "\n",
      "See the caveats in the documentation: http://pandas.pydata.org/pandas-docs/stable/user_guide/indexing.html#returning-a-view-versus-a-copy\n",
      "  self.obj[item] = s\n",
      "C:\\Users\\vatss\\Anaconda3\\lib\\site-packages\\pandas\\core\\indexing.py:494: SettingWithCopyWarning: \n",
      "A value is trying to be set on a copy of a slice from a DataFrame.\n",
      "Try using .loc[row_indexer,col_indexer] = value instead\n",
      "\n",
      "See the caveats in the documentation: http://pandas.pydata.org/pandas-docs/stable/user_guide/indexing.html#returning-a-view-versus-a-copy\n",
      "  self.obj[item] = s\n"
     ]
    }
   ],
   "source": [
    "# scaling features\n",
    "scaler = preprocessing.StandardScaler()\n",
    "for i in range(X_train.shape[1]):\n",
    "    colTrain = X_train.iloc[:,i]\n",
    "#     colTrain = X_train[:,i]\n",
    "    scaler.fit(np.array(colTrain).reshape(-1,1))\n",
    "    X_train.iloc[:,i]=scaler.transform(np.array(colTrain).reshape(-1,1))\n",
    "#     X_train[:,i]=scaler.transform(np.array(colTrain).reshape(-1,1))\n",
    "    colTest = X_test.iloc[:,i]\n",
    "#     colTest = X_test[:,i]\n",
    "#     X_test[:,i]=scaler.transform(np.array(colTest).reshape(-1,1))    \n",
    "    X_test.iloc[:,i]=scaler.transform(np.array(colTest).reshape(-1,1))"
   ]
  },
  {
   "cell_type": "code",
   "execution_count": 8,
   "metadata": {},
   "outputs": [],
   "source": [
    "# scaling target\n",
    "y_train = np.array(y_train).reshape(-1, 1)\n",
    "y_test = np.array(y_test).reshape(-1, 1)\n",
    "\n",
    "scaler.fit(y_train)\n",
    "y_train = scaler.transform(y_train)\n",
    "y_test = scaler.transform(y_test)"
   ]
  },
  {
   "cell_type": "code",
   "execution_count": 9,
   "metadata": {},
   "outputs": [
    {
     "data": {
      "text/plain": [
       "(153, 6)"
      ]
     },
     "execution_count": 9,
     "metadata": {},
     "output_type": "execute_result"
    }
   ],
   "source": [
    "X_train.shape"
   ]
  },
  {
   "cell_type": "markdown",
   "metadata": {},
   "source": [
    "##### Function for evaluation of model"
   ]
  },
  {
   "cell_type": "markdown",
   "metadata": {},
   "source": [
    "#### 81,81,0.15,b=20,e=40,acc=64\n",
    "#### 117,37, 0.17,b=20,e=45, acc=66\n",
    "#### 131,41,0.2,ac==60,dropout(before last layer=0.2)\n",
    "#### 76,46,0.21,acc=64 \n",
    "#### 117,98,lr=0.17\n",
    "#### 175,31,0.2\n",
    "#### 85,31,0.215\n",
    "#### 285,115,lr=0.19\n",
    "#### 130,115,0.21\n",
    "#### 290,155,0.2\n",
    "#### 130,220,lr>0.215 maybe"
   ]
  },
  {
   "cell_type": "code",
   "execution_count": 166,
   "metadata": {},
   "outputs": [
    {
     "name": "stdout",
     "output_type": "stream",
     "text": [
      "Train on 122 samples, validate on 31 samples\n",
      "Epoch 1/40\n",
      "122/122 [==============================] - 0s 2ms/step - loss: 0.8077 - mae: 0.7955 - val_loss: 0.8092 - val_mae: 0.7974\n",
      "Epoch 2/40\n",
      "122/122 [==============================] - 0s 0us/step - loss: 0.7409 - mae: 0.7293 - val_loss: 0.8333 - val_mae: 0.8219\n",
      "Epoch 3/40\n",
      "122/122 [==============================] - 0s 0us/step - loss: 0.7335 - mae: 0.7222 - val_loss: 0.8585 - val_mae: 0.8470\n",
      "Epoch 4/40\n",
      "122/122 [==============================] - 0s 128us/step - loss: 0.7520 - mae: 0.7407 - val_loss: 0.7710 - val_mae: 0.7599\n",
      "Epoch 5/40\n",
      "122/122 [==============================] - 0s 128us/step - loss: 0.7299 - mae: 0.7186 - val_loss: 0.8119 - val_mae: 0.8006\n",
      "Epoch 6/40\n",
      "122/122 [==============================] - 0s 128us/step - loss: 0.7194 - mae: 0.7082 - val_loss: 0.8469 - val_mae: 0.8355\n",
      "Epoch 7/40\n",
      "122/122 [==============================] - 0s 129us/step - loss: 0.7433 - mae: 0.7322 - val_loss: 0.7447 - val_mae: 0.7336\n",
      "Epoch 8/40\n",
      "122/122 [==============================] - 0s 0us/step - loss: 0.6977 - mae: 0.6863 - val_loss: 0.8293 - val_mae: 0.8182\n",
      "Epoch 9/40\n",
      "122/122 [==============================] - 0s 127us/step - loss: 0.7136 - mae: 0.7020 - val_loss: 0.7316 - val_mae: 0.7198\n",
      "Epoch 10/40\n",
      "122/122 [==============================] - 0s 128us/step - loss: 0.6879 - mae: 0.6757 - val_loss: 0.7749 - val_mae: 0.7603\n",
      "Epoch 11/40\n",
      "122/122 [==============================] - 0s 128us/step - loss: 0.6990 - mae: 0.6844 - val_loss: 0.6998 - val_mae: 0.6860\n",
      "Epoch 12/40\n",
      "122/122 [==============================] - 0s 128us/step - loss: 0.6706 - mae: 0.6562 - val_loss: 0.6690 - val_mae: 0.6535\n",
      "Epoch 13/40\n",
      "122/122 [==============================] - 0s 128us/step - loss: 0.6385 - mae: 0.6226 - val_loss: 0.6432 - val_mae: 0.6262\n",
      "Epoch 14/40\n",
      "122/122 [==============================] - 0s 0us/step - loss: 0.6543 - mae: 0.6367 - val_loss: 0.7224 - val_mae: 0.7048\n",
      "Epoch 15/40\n",
      "122/122 [==============================] - 0s 128us/step - loss: 0.6660 - mae: 0.6476 - val_loss: 0.6002 - val_mae: 0.5801\n",
      "Epoch 16/40\n",
      "122/122 [==============================] - 0s 128us/step - loss: 0.6325 - mae: 0.6116 - val_loss: 0.6556 - val_mae: 0.6329\n",
      "Epoch 17/40\n",
      "122/122 [==============================] - 0s 128us/step - loss: 0.6002 - mae: 0.5774 - val_loss: 0.5114 - val_mae: 0.4843\n",
      "Epoch 18/40\n",
      "122/122 [==============================] - 0s 128us/step - loss: 0.5973 - mae: 0.5705 - val_loss: 0.6247 - val_mae: 0.6006\n",
      "Epoch 19/40\n",
      "122/122 [==============================] - 0s 128us/step - loss: 0.6216 - mae: 0.5974 - val_loss: 0.6546 - val_mae: 0.6305\n",
      "Epoch 20/40\n",
      "122/122 [==============================] - 0s 0us/step - loss: 0.5803 - mae: 0.5551 - val_loss: 0.8457 - val_mae: 0.8138\n",
      "Epoch 21/40\n",
      "122/122 [==============================] - 0s 128us/step - loss: 0.6994 - mae: 0.6697 - val_loss: 0.5245 - val_mae: 0.4969\n",
      "Epoch 22/40\n",
      "122/122 [==============================] - 0s 128us/step - loss: 0.5485 - mae: 0.5196 - val_loss: 0.7140 - val_mae: 0.6789\n",
      "Epoch 23/40\n",
      "122/122 [==============================] - 0s 128us/step - loss: 0.5746 - mae: 0.5415 - val_loss: 0.4757 - val_mae: 0.4414\n",
      "Epoch 24/40\n",
      "122/122 [==============================] - 0s 128us/step - loss: 0.5378 - mae: 0.5037 - val_loss: 0.5279 - val_mae: 0.4888\n",
      "Epoch 25/40\n",
      "122/122 [==============================] - 0s 0us/step - loss: 0.5527 - mae: 0.5163 - val_loss: 0.9523 - val_mae: 0.9070\n",
      "Epoch 26/40\n",
      "122/122 [==============================] - 0s 128us/step - loss: 0.6241 - mae: 0.5833 - val_loss: 0.6694 - val_mae: 0.6278\n",
      "Epoch 27/40\n",
      "122/122 [==============================] - 0s 128us/step - loss: 0.5390 - mae: 0.4990 - val_loss: 0.5102 - val_mae: 0.4705\n",
      "Epoch 28/40\n",
      "122/122 [==============================] - 0s 128us/step - loss: 0.5226 - mae: 0.4823 - val_loss: 0.5165 - val_mae: 0.4766\n",
      "Epoch 29/40\n",
      "122/122 [==============================] - 0s 128us/step - loss: 0.5174 - mae: 0.4770 - val_loss: 0.4543 - val_mae: 0.4072\n",
      "Epoch 30/40\n",
      "122/122 [==============================] - 0s 128us/step - loss: 0.5486 - mae: 0.5053 - val_loss: 0.5850 - val_mae: 0.5425\n",
      "Epoch 31/40\n",
      "122/122 [==============================] - 0s 0us/step - loss: 0.4890 - mae: 0.4444 - val_loss: 0.6705 - val_mae: 0.6207\n",
      "Epoch 32/40\n",
      "122/122 [==============================] - 0s 128us/step - loss: 0.5337 - mae: 0.4877 - val_loss: 0.4390 - val_mae: 0.3929\n",
      "Epoch 33/40\n",
      "122/122 [==============================] - 0s 128us/step - loss: 0.4947 - mae: 0.4467 - val_loss: 0.6093 - val_mae: 0.5592\n",
      "Epoch 34/40\n",
      "122/122 [==============================] - 0s 128us/step - loss: 0.5374 - mae: 0.4897 - val_loss: 0.6914 - val_mae: 0.6443\n",
      "Epoch 35/40\n",
      "122/122 [==============================] - 0s 128us/step - loss: 0.6132 - mae: 0.5629 - val_loss: 1.2102 - val_mae: 1.1432\n",
      "Epoch 36/40\n",
      "122/122 [==============================] - 0s 128us/step - loss: 0.6862 - mae: 0.6298 - val_loss: 0.4590 - val_mae: 0.4076\n",
      "Epoch 37/40\n",
      "122/122 [==============================] - 0s 128us/step - loss: 0.4691 - mae: 0.4163 - val_loss: 0.4729 - val_mae: 0.4187\n",
      "Epoch 38/40\n",
      "122/122 [==============================] - 0s 0us/step - loss: 0.4858 - mae: 0.4310 - val_loss: 0.6360 - val_mae: 0.5800\n",
      "Epoch 39/40\n",
      "122/122 [==============================] - 0s 0us/step - loss: 0.5181 - mae: 0.4634 - val_loss: 0.8723 - val_mae: 0.8223\n",
      "Epoch 40/40\n",
      "122/122 [==============================] - 0s 128us/step - loss: 0.6030 - mae: 0.5497 - val_loss: 0.4291 - val_mae: 0.3740\n",
      "39/39 [==============================] - 0s 0us/step\n",
      "[0.4616093188524246, 0.40655410289764404]\n"
     ]
    }
   ],
   "source": [
    "def eval_model():\n",
    "    model = Sequential()\n",
    "    model.add(Dense(82,input_shape=(X_train.shape[1],),kernel_regularizer=regularizers.l2(),kernel_initializer='uniform',activation='relu'))\n",
    "    model.add(Dense(12,kernel_regularizer=regularizers.l2(),kernel_initializer='uniform',activation='relu'))\n",
    "    model.add(Dense(1, activation='linear'))\n",
    "    model.compile(SGD(lr=0.17),loss='mean_absolute_error',metrics=['mae'])\n",
    "    return model\n",
    "model=eval_model()\n",
    "model.fit(X_train,y_train,validation_split=0.2,epochs=40,batch_size=20,shuffle=True)\n",
    "print(model.evaluate(X_test,y_test))"
   ]
  },
  {
   "cell_type": "markdown",
   "metadata": {},
   "source": [
    "##### Hyperparametrization"
   ]
  },
  {
   "cell_type": "code",
   "execution_count": 178,
   "metadata": {},
   "outputs": [
    {
     "name": "stderr",
     "output_type": "stream",
     "text": [
      "C:\\Users\\vatss\\Anaconda3\\lib\\site-packages\\sklearn\\model_selection\\_search.py:814: DeprecationWarning: The default of the `iid` parameter will change from True to False in version 0.22 and will be removed in 0.24. This will change numeric results when test-set sizes are unequal.\n",
      "  DeprecationWarning)\n"
     ]
    },
    {
     "name": "stdout",
     "output_type": "stream",
     "text": [
      "Epoch 1/45\n",
      " - 0s - loss: 1.0200 - mae: 0.8533\n",
      "Epoch 2/45\n",
      " - 0s - loss: 0.9870 - mae: 0.8193\n",
      "Epoch 3/45\n",
      " - 0s - loss: 0.8858 - mae: 0.7655\n",
      "Epoch 4/45\n",
      " - 0s - loss: 0.8590 - mae: 0.7269\n",
      "Epoch 5/45\n",
      " - 0s - loss: 0.7631 - mae: 0.6682\n",
      "Epoch 6/45\n",
      " - 0s - loss: 0.8394 - mae: 0.6749\n",
      "Epoch 7/45\n",
      " - 0s - loss: 0.8274 - mae: 0.6820\n",
      "Epoch 8/45\n",
      " - 0s - loss: 0.6525 - mae: 0.5544\n",
      "Epoch 9/45\n",
      " - 0s - loss: 0.6924 - mae: 0.5746\n",
      "Epoch 10/45\n",
      " - 0s - loss: 0.6304 - mae: 0.5418\n",
      "Epoch 11/45\n",
      " - 0s - loss: 0.5697 - mae: 0.4992\n",
      "Epoch 12/45\n",
      " - 0s - loss: 0.6659 - mae: 0.5278\n",
      "Epoch 13/45\n",
      " - 0s - loss: 0.6739 - mae: 0.5409\n",
      "Epoch 14/45\n",
      " - 0s - loss: 0.5987 - mae: 0.5042\n",
      "Epoch 15/45\n",
      " - 0s - loss: 0.6180 - mae: 0.4987\n",
      "Epoch 16/45\n",
      " - 0s - loss: 0.5505 - mae: 0.4637\n",
      "Epoch 17/45\n",
      " - 0s - loss: 0.6534 - mae: 0.5370\n",
      "Epoch 18/45\n",
      " - 0s - loss: 0.5261 - mae: 0.4381\n",
      "Epoch 19/45\n",
      " - 0s - loss: 0.7444 - mae: 0.5846\n",
      "Epoch 20/45\n",
      " - 0s - loss: 0.5704 - mae: 0.4820\n",
      "Epoch 21/45\n",
      " - 0s - loss: 0.6298 - mae: 0.5246\n",
      "Epoch 22/45\n",
      " - 0s - loss: 0.6190 - mae: 0.5360\n",
      "Epoch 23/45\n",
      " - 0s - loss: 0.5863 - mae: 0.4929\n",
      "Epoch 24/45\n",
      " - 0s - loss: 0.5540 - mae: 0.4594\n",
      "Epoch 25/45\n",
      " - 0s - loss: 0.6329 - mae: 0.5670\n",
      "Epoch 26/45\n",
      " - 0s - loss: 0.5143 - mae: 0.4472\n",
      "Epoch 27/45\n",
      " - 0s - loss: 0.5415 - mae: 0.4536\n",
      "Epoch 28/45\n",
      " - 0s - loss: 0.6350 - mae: 0.5069\n",
      "Epoch 29/45\n",
      " - 0s - loss: 0.5331 - mae: 0.4670\n",
      "Epoch 30/45\n",
      " - 0s - loss: 0.6036 - mae: 0.4805\n",
      "Epoch 31/45\n",
      " - 0s - loss: 0.5433 - mae: 0.4413\n",
      "Epoch 32/45\n",
      " - 0s - loss: 0.4762 - mae: 0.3954\n",
      "Epoch 33/45\n",
      " - 0s - loss: 0.4949 - mae: 0.4113\n",
      "Epoch 34/45\n",
      " - 0s - loss: 0.5615 - mae: 0.5043\n",
      "Epoch 35/45\n",
      " - 0s - loss: 0.4870 - mae: 0.4108\n",
      "Epoch 36/45\n",
      " - 0s - loss: 0.5835 - mae: 0.4882\n",
      "Epoch 37/45\n",
      " - 0s - loss: 0.5134 - mae: 0.4346\n",
      "Epoch 38/45\n",
      " - 0s - loss: 0.5404 - mae: 0.4430\n",
      "Epoch 39/45\n",
      " - 0s - loss: 0.5098 - mae: 0.4499\n",
      "Epoch 40/45\n",
      " - 0s - loss: 0.5750 - mae: 0.4630\n",
      "Epoch 41/45\n",
      " - 0s - loss: 0.4935 - mae: 0.4110\n",
      "Epoch 42/45\n",
      " - 0s - loss: 0.6632 - mae: 0.5474\n",
      "Epoch 43/45\n",
      " - 0s - loss: 0.5179 - mae: 0.4538\n",
      "Epoch 44/45\n",
      " - 0s - loss: 0.4708 - mae: 0.4049\n",
      "Epoch 45/45\n",
      " - 0s - loss: 0.5131 - mae: 0.4115\n",
      "{'lr': 0.18, 'n1': 82, 'n2': 27}\n",
      "39/39 [==============================] - 0s 1ms/step\n",
      "[0.6752152332128623, 0.544121503829956]\n"
     ]
    }
   ],
   "source": [
    "def eval_model(n1=160,n2=170,lr=0.2):\n",
    "    model = Sequential()\n",
    "    model.add(Dense(n1,input_shape=(X_train.shape[1],),kernel_regularizer=regularizers.l2(),kernel_initializer='uniform',activation='relu'))\n",
    "    model.add(Dense(n2,kernel_regularizer=regularizers.l2(),kernel_initializer='uniform',activation='relu'))\n",
    "    model.add(Dense(1, activation='linear'))\n",
    "    model.compile(SGD(lr=lr),loss='mean_squared_error',metrics=['mae'])\n",
    "    return model\n",
    "\n",
    "model = KerasRegressor(build_fn=eval_model, verbose=2,batch_size=24,epochs=45)\n",
    "n1=[80,117,131,76,120,82,28,130,290,130]\n",
    "n2=[80,56,46,41,37,5,12,27,220,155,115]\n",
    "# n1=np.arange(80,300,5)\n",
    "# n2=np.arange(80,300,5)\n",
    "lr=[0.18,0.19,0.2,0.21,0.215,0.22,0.23]\n",
    "param_grid = dict(n1=n1,n2=n2,lr=lr)\n",
    "grid = GridSearchCV(estimator=model, param_grid=param_grid,n_jobs=-1, cv=4)\n",
    "grid.fit(X_train, y_train)\n",
    "print(grid.best_params_)\n",
    "Model = grid.best_estimator_.model\n",
    "print(Model.evaluate(X_test,y_test))"
   ]
  },
  {
   "cell_type": "markdown",
   "metadata": {},
   "source": [
    "##### Sklearn algorithm for prediction"
   ]
  },
  {
   "cell_type": "code",
   "execution_count": 24,
   "metadata": {},
   "outputs": [],
   "source": [
    "# reg = SVR()\n",
    "# SVR(C=2, cache_size=200, coef0=0.0, degree=3, epsilon=0.1, gamma=0.1,\n",
    "#     kernel='rbf', max_iter=-1, shrinking=True, tol=0.001, verbose=False)\n",
    "# min_impurity_decrease=0.008,\n",
    "reg = RandomForestRegressor(bootstrap=True, criterion='mse', max_depth=200,\n",
    "                      max_features='auto', max_leaf_nodes=300,\n",
    "                      min_impurity_decrease=0.008,\n",
    "                      min_samples_leaf=2,\n",
    "                      min_samples_split=4,\n",
    "                      min_impurity_split=0.012,\n",
    "                      n_estimators=100,\n",
    "                      n_jobs=-1,random_state=0)"
   ]
  },
  {
   "cell_type": "code",
   "execution_count": 25,
   "metadata": {},
   "outputs": [
    {
     "name": "stdout",
     "output_type": "stream",
     "text": [
      "0.5728572634640993\n"
     ]
    }
   ],
   "source": [
    "scores = cross_val_score(reg, X_train, y_train.ravel(), cv=5)\n",
    "print(scores.mean())"
   ]
  },
  {
   "cell_type": "code",
   "execution_count": 59,
   "metadata": {},
   "outputs": [
    {
     "data": {
      "text/plain": [
       "0.6292907059198538"
      ]
     },
     "execution_count": 59,
     "metadata": {},
     "output_type": "execute_result"
    }
   ],
   "source": [
    "# y_pred = reg.predict(X_test)\n",
    "reg.fit(X_train,y_train.ravel())\n",
    "reg.score(X_test,y_test.ravel())"
   ]
  },
  {
   "cell_type": "code",
   "execution_count": 155,
   "metadata": {},
   "outputs": [
    {
     "data": {
      "text/plain": [
       "0.6370927447216156"
      ]
     },
     "execution_count": 155,
     "metadata": {},
     "output_type": "execute_result"
    }
   ],
   "source": [
    "from sklearn.neural_network import MLPRegressor\n",
    "reg=MLPRegressor(validation_fraction=0.3,alpha=0.001,activation='relu',batch_size=24,hidden_layer_sizes=(28,56),max_iter=500,learning_rate_init=0.035)\n",
    "reg.fit(X_train,y_train.ravel())\n",
    "reg.score(X_test,y_test.ravel())"
   ]
  }
 ],
 "metadata": {
  "kernelspec": {
   "display_name": "Python 3",
   "language": "python",
   "name": "python3"
  },
  "language_info": {
   "codemirror_mode": {
    "name": "ipython",
    "version": 3
   },
   "file_extension": ".py",
   "mimetype": "text/x-python",
   "name": "python",
   "nbconvert_exporter": "python",
   "pygments_lexer": "ipython3",
   "version": "3.7.7"
  }
 },
 "nbformat": 4,
 "nbformat_minor": 2
}
