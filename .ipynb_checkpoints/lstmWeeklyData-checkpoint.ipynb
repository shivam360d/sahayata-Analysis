{
 "cells": [
  {
   "cell_type": "code",
   "execution_count": 55,
   "metadata": {},
   "outputs": [],
   "source": [
    "import numpy as np\n",
    "import pandas as pd\n",
    "from IPython.display import Image"
   ]
  },
  {
   "cell_type": "code",
   "execution_count": 56,
   "metadata": {},
   "outputs": [],
   "source": [
    "data = pd.read_csv('final.csv',index_col=0)"
   ]
  },
  {
   "cell_type": "code",
   "execution_count": 4,
   "metadata": {},
   "outputs": [],
   "source": [
    "data.drop(columns=['Year',\"MSP\",'exported','Production','rain','Combined','Month'],inplace=True)"
   ]
  },
  {
   "cell_type": "code",
   "execution_count": 5,
   "metadata": {},
   "outputs": [],
   "source": [
    "data = data.to_numpy()"
   ]
  },
  {
   "cell_type": "code",
   "execution_count": 6,
   "metadata": {},
   "outputs": [
    {
     "data": {
      "text/plain": [
       "128"
      ]
     },
     "execution_count": 6,
     "metadata": {},
     "output_type": "execute_result"
    }
   ],
   "source": [
    "train_size = int(data.shape[0]*0.67)\n",
    "train_size"
   ]
  },
  {
   "cell_type": "code",
   "execution_count": 7,
   "metadata": {},
   "outputs": [
    {
     "data": {
      "text/plain": [
       "64"
      ]
     },
     "execution_count": 7,
     "metadata": {},
     "output_type": "execute_result"
    }
   ],
   "source": [
    "test_size = data.shape[0]-train_size\n",
    "test_size"
   ]
  },
  {
   "cell_type": "code",
   "execution_count": 8,
   "metadata": {},
   "outputs": [],
   "source": [
    "train = data[0:train_size]\n",
    "test = data[train_size:]"
   ]
  },
  {
   "cell_type": "code",
   "execution_count": 9,
   "metadata": {},
   "outputs": [],
   "source": [
    "from sklearn.preprocessing import MinMaxScaler"
   ]
  },
  {
   "cell_type": "code",
   "execution_count": 10,
   "metadata": {},
   "outputs": [],
   "source": [
    "scaler = MinMaxScaler()\n",
    "train = scaler.fit_transform(train)\n",
    "test = scaler.transform(test)"
   ]
  },
  {
   "cell_type": "code",
   "execution_count": 11,
   "metadata": {},
   "outputs": [],
   "source": [
    "def createDataset(Data,window):\n",
    "    dataX, dataY = [],[]\n",
    "    for i in range(Data.shape[0]-window):\n",
    "        dataX.append(Data[i:i+window,0])\n",
    "        dataY.append(Data[i+window,0])\n",
    "    return np.array(dataX), np.array(dataY)"
   ]
  },
  {
   "cell_type": "code",
   "execution_count": 12,
   "metadata": {},
   "outputs": [],
   "source": [
    "window=12\n",
    "testX,testY = createDataset(test,window)\n",
    "trainX, trainY = createDataset(train,window)"
   ]
  },
  {
   "cell_type": "code",
   "execution_count": 13,
   "metadata": {},
   "outputs": [
    {
     "name": "stderr",
     "output_type": "stream",
     "text": [
      "Using TensorFlow backend.\n"
     ]
    }
   ],
   "source": [
    "from keras.models import Sequential\n",
    "from keras.layers import SimpleRNN, Dense, GRU, Lambda,LSTM\n",
    "from keras import regularizers\n",
    "from keras.optimizers import Adam\n",
    "import tensorflow as tf"
   ]
  },
  {
   "cell_type": "code",
   "execution_count": 46,
   "metadata": {},
   "outputs": [
    {
     "data": {
      "text/plain": [
       "(116, 12, 1)"
      ]
     },
     "execution_count": 46,
     "metadata": {},
     "output_type": "execute_result"
    }
   ],
   "source": [
    "number_of_features =1\n",
    "trainX = np.reshape(trainX,(trainX.shape[0],trainX.shape[1],number_of_features))\n",
    "testX = np.reshape(testX,(testX.shape[0],testX.shape[1],number_of_features))\n",
    "trainX.shape"
   ]
  },
  {
   "cell_type": "code",
   "execution_count": 52,
   "metadata": {},
   "outputs": [
    {
     "name": "stdout",
     "output_type": "stream",
     "text": [
      "Epoch 1/50\n",
      "116/116 [==============================] - 1s 12ms/step - loss: 0.0468\n",
      "Epoch 2/50\n",
      "116/116 [==============================] - 1s 5ms/step - loss: 0.0404\n",
      "Epoch 3/50\n",
      "116/116 [==============================] - 1s 6ms/step - loss: 0.0328\n",
      "Epoch 4/50\n",
      "116/116 [==============================] - 1s 7ms/step - loss: 0.0338\n",
      "Epoch 5/50\n",
      "116/116 [==============================] - 1s 6ms/step - loss: 0.0325\n",
      "Epoch 6/50\n",
      "116/116 [==============================] - 1s 5ms/step - loss: 0.0360A: 0s - loss: 0.\n",
      "Epoch 7/50\n",
      "116/116 [==============================] - 1s 5ms/step - loss: 0.0325\n",
      "Epoch 8/50\n",
      "116/116 [==============================] - 1s 5ms/step - loss: 0.0359\n",
      "Epoch 9/50\n",
      "116/116 [==============================] - 1s 5ms/step - loss: 0.0357\n",
      "Epoch 10/50\n",
      "116/116 [==============================] - 1s 5ms/step - loss: 0.0384\n",
      "Epoch 11/50\n",
      "116/116 [==============================] - 1s 5ms/step - loss: 0.0352\n",
      "Epoch 12/50\n",
      "116/116 [==============================] - 1s 5ms/step - loss: 0.0306\n",
      "Epoch 13/50\n",
      "116/116 [==============================] - 1s 5ms/step - loss: 0.0352\n",
      "Epoch 14/50\n",
      "116/116 [==============================] - 1s 5ms/step - loss: 0.0334\n",
      "Epoch 15/50\n",
      "116/116 [==============================] - 1s 5ms/step - loss: 0.0347\n",
      "Epoch 16/50\n",
      "116/116 [==============================] - 1s 5ms/step - loss: 0.0366\n",
      "Epoch 17/50\n",
      "116/116 [==============================] - 1s 5ms/step - loss: 0.0362\n",
      "Epoch 18/50\n",
      "116/116 [==============================] - 1s 5ms/step - loss: 0.0354\n",
      "Epoch 19/50\n",
      "116/116 [==============================] - 1s 5ms/step - loss: 0.0338\n",
      "Epoch 20/50\n",
      "116/116 [==============================] - 1s 6ms/step - loss: 0.0367\n",
      "Epoch 21/50\n",
      "116/116 [==============================] - 1s 5ms/step - loss: 0.0362\n",
      "Epoch 22/50\n",
      "116/116 [==============================] - 1s 5ms/step - loss: 0.0355\n",
      "Epoch 23/50\n",
      "116/116 [==============================] - 1s 5ms/step - loss: 0.0379\n",
      "Epoch 24/50\n",
      "116/116 [==============================] - 1s 6ms/step - loss: 0.0301\n",
      "Epoch 25/50\n",
      "116/116 [==============================] - 1s 5ms/step - loss: 0.0342\n",
      "Epoch 26/50\n",
      "116/116 [==============================] - 1s 6ms/step - loss: 0.0342\n",
      "Epoch 27/50\n",
      "116/116 [==============================] - 1s 6ms/step - loss: 0.0365\n",
      "Epoch 28/50\n",
      "116/116 [==============================] - 1s 5ms/step - loss: 0.0364\n",
      "Epoch 29/50\n",
      "116/116 [==============================] - 1s 5ms/step - loss: 0.0341\n",
      "Epoch 30/50\n",
      "116/116 [==============================] - 1s 5ms/step - loss: 0.0350\n",
      "Epoch 31/50\n",
      "116/116 [==============================] - 1s 5ms/step - loss: 0.0379A: 0s - l\n",
      "Epoch 32/50\n",
      "116/116 [==============================] - 1s 5ms/step - loss: 0.0373\n",
      "Epoch 33/50\n",
      "116/116 [==============================] - 1s 5ms/step - loss: 0.0336\n",
      "Epoch 34/50\n",
      "116/116 [==============================] - 1s 5ms/step - loss: 0.0356\n",
      "Epoch 35/50\n",
      "116/116 [==============================] - 1s 5ms/step - loss: 0.0352\n",
      "Epoch 36/50\n",
      "116/116 [==============================] - 1s 6ms/step - loss: 0.0363\n",
      "Epoch 37/50\n",
      "116/116 [==============================] - 1s 5ms/step - loss: 0.0341\n",
      "Epoch 38/50\n",
      "116/116 [==============================] - 1s 5ms/step - loss: 0.0355\n",
      "Epoch 39/50\n",
      "116/116 [==============================] - 1s 5ms/step - loss: 0.0353\n",
      "Epoch 40/50\n",
      "116/116 [==============================] - 1s 5ms/step - loss: 0.0374\n",
      "Epoch 41/50\n",
      "116/116 [==============================] - 1s 5ms/step - loss: 0.0343\n",
      "Epoch 42/50\n",
      "116/116 [==============================] - 1s 5ms/step - loss: 0.0380\n",
      "Epoch 43/50\n",
      "116/116 [==============================] - 1s 5ms/step - loss: 0.0334\n",
      "Epoch 44/50\n",
      "116/116 [==============================] - 1s 5ms/step - loss: 0.0366\n",
      "Epoch 45/50\n",
      "116/116 [==============================] - 1s 6ms/step - loss: 0.0375\n",
      "Epoch 46/50\n",
      "116/116 [==============================] - 1s 6ms/step - loss: 0.0353\n",
      "Epoch 47/50\n",
      "116/116 [==============================] - 1s 5ms/step - loss: 0.0345\n",
      "Epoch 48/50\n",
      "116/116 [==============================] - 1s 6ms/step - loss: 0.0355\n",
      "Epoch 49/50\n",
      "116/116 [==============================] - 1s 5ms/step - loss: 0.0364\n",
      "Epoch 50/50\n",
      "116/116 [==============================] - 1s 5ms/step - loss: 0.0325\n"
     ]
    },
    {
     "data": {
      "text/plain": [
       "<keras.callbacks.callbacks.History at 0x275107d8e48>"
      ]
     },
     "execution_count": 52,
     "metadata": {},
     "output_type": "execute_result"
    }
   ],
   "source": [
    "model = Sequential()\n",
    "model.add(LSTM(units=3,batch_input_shape=(1,window,number_of_features),input_shape=(window,number_of_features),kernel_regularizer=regularizers.l2(0.01),recurrent_regularizer=regularizers.l2(0.01),activity_regularizer=regularizers.l2(0.01),dropout=0.1,stateful=True))\n",
    "model.add(Dense(1,activation=None))\n",
    "model.compile(loss='mean_squared_error',optimizer=Adam(lr=0.015))\n",
    "model.fit(trainX,trainY,batch_size=1,epochs=50)"
   ]
  },
  {
   "cell_type": "code",
   "execution_count": 53,
   "metadata": {},
   "outputs": [],
   "source": [
    "testPredict = model.predict(testX,batch_size=1)\n",
    "testPredict = scaler.inverse_transform(testPredict).ravel()\n",
    "trainPredict = model.predict(trainX,batch_size=1)\n",
    "trainPredict = scaler.inverse_transform(trainPredict).ravel()\n",
    "testTrue = scaler.inverse_transform([testY]).ravel()\n",
    "trainTrue = scaler.inverse_transform([trainY]).ravel()"
   ]
  },
  {
   "cell_type": "code",
   "execution_count": 54,
   "metadata": {},
   "outputs": [
    {
     "name": "stdout",
     "output_type": "stream",
     "text": [
      "train accuracy 90.11687254487107\n",
      "test accuracy 229.8357788607605\n"
     ]
    }
   ],
   "source": [
    "from sklearn.metrics import mean_absolute_error\n",
    "print('train accuracy',mean_absolute_error(trainTrue,trainPredict))\n",
    "print('test accuracy',mean_absolute_error(testTrue,testPredict))"
   ]
  },
  {
   "cell_type": "code",
   "execution_count": 50,
   "metadata": {},
   "outputs": [
    {
     "data": {
      "image/png": "[encoded data removed]",
      "text/plain": [
       "<Figure size 432x288 with 1 Axes>"
      ]
     },
     "metadata": {
      "needs_background": "light"
     },
     "output_type": "display_data"
    }
   ],
   "source": [
    "from matplotlib import pyplot as plt\n",
    "plt.plot(trainTrue,c='g')\n",
    "plt.plot(trainPredict,c='b')\n",
    "plt.show()"
   ]
  },
  {
   "cell_type": "code",
   "execution_count": 51,
   "metadata": {},
   "outputs": [
    {
     "data": {
      "image/png": "[encoded data removed]",
      "text/plain": [
       "<Figure size 432x288 with 1 Axes>"
      ]
     },
     "metadata": {
      "needs_background": "light"
     },
     "output_type": "display_data"
    }
   ],
   "source": [
    "combinedPredict = np.concatenate((trainPredict,testPredict))\n",
    "combinedTrue = np.concatenate((trainTrue,testTrue))\n",
    "plt.plot(combinedTrue,c='g')\n",
    "plt.plot(combinedPredict, c='b')\n",
    "plt.show()"
   ]
  },
  {
   "cell_type": "code",
   "execution_count": null,
   "metadata": {},
   "outputs": [],
   "source": []
  }
 ],
 "metadata": {
  "kernelspec": {
   "display_name": "Python 3",
   "language": "python",
   "name": "python3"
  },
  "language_info": {
   "codemirror_mode": {
    "name": "ipython",
    "version": 3
   },
   "file_extension": ".py",
   "mimetype": "text/x-python",
   "name": "python",
   "nbconvert_exporter": "python",
   "pygments_lexer": "ipython3",
   "version": "3.7.7"
  }
 },
 "nbformat": 4,
 "nbformat_minor": 2
}
